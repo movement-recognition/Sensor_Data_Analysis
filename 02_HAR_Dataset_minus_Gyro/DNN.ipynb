{
 "cells": [
  {
   "cell_type": "code",
   "execution_count": 1,
   "metadata": {},
   "outputs": [
    {
     "name": "stderr",
     "output_type": "stream",
     "text": [
      "/tmp/ipykernel_6808/1953625967.py:2: DeprecationWarning: \n",
      "Pyarrow will become a required dependency of pandas in the next major release of pandas (pandas 3.0),\n",
      "(to allow more performant data types, such as the Arrow string type, and better interoperability with other libraries)\n",
      "but was not found to be installed on your system.\n",
      "If this would cause problems for you,\n",
      "please provide us feedback at https://github.com/pandas-dev/pandas/issues/54466\n",
      "        \n",
      "  import pandas as pd\n"
     ]
    },
    {
     "name": "stdout",
     "output_type": "stream",
     "text": [
      "<class 'pandas.core.frame.DataFrame'>\n",
      "RangeIndex: 7352 entries, 0 to 7351\n",
      "Columns: 350 entries, tBodyAcc-mean()-X to Activity\n",
      "dtypes: float64(348), int64(1), object(1)\n",
      "memory usage: 19.6+ MB\n"
     ]
    },
    {
     "data": {
      "text/plain": [
       "(None,\n",
       "    tBodyAcc-mean()-X  tBodyAcc-mean()-Y  tBodyAcc-mean()-Z  tBodyAcc-std()-X  \\\n",
       " 0           0.288585          -0.020294          -0.132905         -0.995279   \n",
       " 1           0.278419          -0.016411          -0.123520         -0.998245   \n",
       " 2           0.279653          -0.019467          -0.113462         -0.995380   \n",
       " 3           0.279174          -0.026201          -0.123283         -0.996091   \n",
       " 4           0.276629          -0.016570          -0.115362         -0.998139   \n",
       " \n",
       "    tBodyAcc-std()-Y  tBodyAcc-std()-Z  tBodyAcc-mad()-X  tBodyAcc-mad()-Y  \\\n",
       " 0         -0.983111         -0.913526         -0.995112         -0.983185   \n",
       " 1         -0.975300         -0.960322         -0.998807         -0.974914   \n",
       " 2         -0.967187         -0.978944         -0.996520         -0.963668   \n",
       " 3         -0.983403         -0.990675         -0.997099         -0.982750   \n",
       " 4         -0.980817         -0.990482         -0.998321         -0.979672   \n",
       " \n",
       "    tBodyAcc-mad()-Z  tBodyAcc-max()-X  ...  fBodyBodyAccJerkMag-meanFreq()  \\\n",
       " 0         -0.923527         -0.934724  ...                        0.346989   \n",
       " 1         -0.957686         -0.943068  ...                        0.532061   \n",
       " 2         -0.977469         -0.938692  ...                        0.660795   \n",
       " 3         -0.989302         -0.938692  ...                        0.678921   \n",
       " 4         -0.990441         -0.942469  ...                        0.559058   \n",
       " \n",
       "    fBodyBodyAccJerkMag-skewness()  fBodyBodyAccJerkMag-kurtosis()  \\\n",
       " 0                       -0.516080                       -0.802760   \n",
       " 1                       -0.624871                       -0.900160   \n",
       " 2                       -0.724697                       -0.928539   \n",
       " 3                       -0.701131                       -0.909639   \n",
       " 4                       -0.528901                       -0.858933   \n",
       " \n",
       "    angle(tBodyAccMean,gravity)  angle(tBodyAccJerkMean),gravityMean)  \\\n",
       " 0                    -0.112754                              0.030400   \n",
       " 1                     0.053477                             -0.007435   \n",
       " 2                    -0.118559                              0.177899   \n",
       " 3                    -0.036788                             -0.012892   \n",
       " 4                     0.123320                              0.122542   \n",
       " \n",
       "    angle(X,gravityMean)  angle(Y,gravityMean)  angle(Z,gravityMean)  subject  \\\n",
       " 0             -0.841247              0.179941             -0.058627        1   \n",
       " 1             -0.844788              0.180289             -0.054317        1   \n",
       " 2             -0.848933              0.180637             -0.049118        1   \n",
       " 3             -0.848649              0.181935             -0.047663        1   \n",
       " 4             -0.847865              0.185151             -0.043892        1   \n",
       " \n",
       "    Activity  \n",
       " 0  STANDING  \n",
       " 1  STANDING  \n",
       " 2  STANDING  \n",
       " 3  STANDING  \n",
       " 4  STANDING  \n",
       " \n",
       " [5 rows x 350 columns])"
      ]
     },
     "execution_count": 1,
     "metadata": {},
     "output_type": "execute_result"
    }
   ],
   "source": [
    "# 首先，我们需要加载并查看上传的文件内容，以了解数据的结构。\n",
    "import pandas as pd\n",
    "\n",
    "# 加载数据\n",
    "data_path = './data/train_no_gyro.csv'\n",
    "data = pd.read_csv(data_path)\n",
    "\n",
    "# 显示数据的前几行以及信息概览\n",
    "data.info(), data.head()"
   ]
  },
  {
   "cell_type": "code",
   "execution_count": 2,
   "metadata": {},
   "outputs": [
    {
     "name": "stderr",
     "output_type": "stream",
     "text": [
      "2024-03-18 19:06:00.592097: I external/local_tsl/tsl/cuda/cudart_stub.cc:32] Could not find cuda drivers on your machine, GPU will not be used.\n",
      "2024-03-18 19:06:00.594876: I external/local_tsl/tsl/cuda/cudart_stub.cc:32] Could not find cuda drivers on your machine, GPU will not be used.\n",
      "2024-03-18 19:06:00.621261: I tensorflow/core/platform/cpu_feature_guard.cc:210] This TensorFlow binary is optimized to use available CPU instructions in performance-critical operations.\n",
      "To enable the following instructions: AVX2 FMA, in other operations, rebuild TensorFlow with the appropriate compiler flags.\n",
      "2024-03-18 19:06:01.449276: W tensorflow/compiler/tf2tensorrt/utils/py_utils.cc:38] TF-TRT Warning: Could not find TensorRT\n"
     ]
    },
    {
     "name": "stdout",
     "output_type": "stream",
     "text": [
      "Epoch 1/10\n"
     ]
    },
    {
     "name": "stderr",
     "output_type": "stream",
     "text": [
      "/home/codespace/.python/current/lib/python3.10/site-packages/keras/src/layers/core/dense.py:85: UserWarning: Do not pass an `input_shape`/`input_dim` argument to a layer. When using Sequential models, prefer using an `Input(shape)` object as the first layer in the model instead.\n",
      "  super().__init__(activity_regularizer=activity_regularizer, **kwargs)\n"
     ]
    },
    {
     "name": "stdout",
     "output_type": "stream",
     "text": [
      "\u001b[1m184/184\u001b[0m \u001b[32m━━━━━━━━━━━━━━━━━━━━\u001b[0m\u001b[37m\u001b[0m \u001b[1m1s\u001b[0m 2ms/step - accuracy: 0.4798 - loss: 1.2041 - val_accuracy: 0.8300 - val_loss: 0.3498\n",
      "Epoch 2/10\n",
      "\u001b[1m184/184\u001b[0m \u001b[32m━━━━━━━━━━━━━━━━━━━━\u001b[0m\u001b[37m\u001b[0m \u001b[1m0s\u001b[0m 2ms/step - accuracy: 0.7991 - loss: 0.4353 - val_accuracy: 0.8525 - val_loss: 0.2831\n",
      "Epoch 3/10\n",
      "\u001b[1m184/184\u001b[0m \u001b[32m━━━━━━━━━━━━━━━━━━━━\u001b[0m\u001b[37m\u001b[0m \u001b[1m0s\u001b[0m 2ms/step - accuracy: 0.8460 - loss: 0.3500 - val_accuracy: 0.9096 - val_loss: 0.2327\n",
      "Epoch 4/10\n",
      "\u001b[1m184/184\u001b[0m \u001b[32m━━━━━━━━━━━━━━━━━━━━\u001b[0m\u001b[37m\u001b[0m \u001b[1m0s\u001b[0m 1ms/step - accuracy: 0.8671 - loss: 0.3060 - val_accuracy: 0.9232 - val_loss: 0.1920\n",
      "Epoch 5/10\n",
      "\u001b[1m184/184\u001b[0m \u001b[32m━━━━━━━━━━━━━━━━━━━━\u001b[0m\u001b[37m\u001b[0m \u001b[1m0s\u001b[0m 1ms/step - accuracy: 0.8759 - loss: 0.2828 - val_accuracy: 0.8817 - val_loss: 0.2362\n",
      "Epoch 6/10\n",
      "\u001b[1m184/184\u001b[0m \u001b[32m━━━━━━━━━━━━━━━━━━━━\u001b[0m\u001b[37m\u001b[0m \u001b[1m0s\u001b[0m 1ms/step - accuracy: 0.8937 - loss: 0.2538 - val_accuracy: 0.9279 - val_loss: 0.1730\n",
      "Epoch 7/10\n",
      "\u001b[1m184/184\u001b[0m \u001b[32m━━━━━━━━━━━━━━━━━━━━\u001b[0m\u001b[37m\u001b[0m \u001b[1m0s\u001b[0m 1ms/step - accuracy: 0.8982 - loss: 0.2509 - val_accuracy: 0.9164 - val_loss: 0.1973\n",
      "Epoch 8/10\n",
      "\u001b[1m184/184\u001b[0m \u001b[32m━━━━━━━━━━━━━━━━━━━━\u001b[0m\u001b[37m\u001b[0m \u001b[1m0s\u001b[0m 1ms/step - accuracy: 0.9167 - loss: 0.2165 - val_accuracy: 0.9327 - val_loss: 0.1622\n",
      "Epoch 9/10\n",
      "\u001b[1m184/184\u001b[0m \u001b[32m━━━━━━━━━━━━━━━━━━━━\u001b[0m\u001b[37m\u001b[0m \u001b[1m0s\u001b[0m 1ms/step - accuracy: 0.9011 - loss: 0.2326 - val_accuracy: 0.9028 - val_loss: 0.1998\n",
      "Epoch 10/10\n",
      "\u001b[1m184/184\u001b[0m \u001b[32m━━━━━━━━━━━━━━━━━━━━\u001b[0m\u001b[37m\u001b[0m \u001b[1m0s\u001b[0m 1ms/step - accuracy: 0.9094 - loss: 0.2255 - val_accuracy: 0.9191 - val_loss: 0.1680\n",
      "测试集准确率: 0.92\n"
     ]
    }
   ],
   "source": [
    "import numpy as np\n",
    "import tensorflow as tf\n",
    "from tensorflow.keras.models import Sequential\n",
    "from tensorflow.keras.layers import Dense, Dropout\n",
    "from sklearn.model_selection import train_test_split\n",
    "from sklearn.preprocessing import LabelEncoder\n",
    "\n",
    "# 数据准备\n",
    "X = data.iloc[:, :-2].values  # 假设最后两列是subject和Activity，所以我们不包括它们\n",
    "y = data['Activity'].values\n",
    "\n",
    "# 将标签编码为整数\n",
    "encoder = LabelEncoder()\n",
    "y_encoded = encoder.fit_transform(y)\n",
    "\n",
    "# 将数据分割为训练集和测试集\n",
    "X_train, X_test, y_train, y_test = train_test_split(X, y_encoded, test_size=0.2, random_state=42)\n",
    "\n",
    "# 构建DNN模型\n",
    "model = Sequential()\n",
    "model.add(Dense(256, input_shape=(X_train.shape[1],), activation='relu'))  # 输入层，指定输入的形状\n",
    "model.add(Dropout(0.5))\n",
    "model.add(Dense(128, activation='relu'))\n",
    "model.add(Dropout(0.5))\n",
    "model.add(Dense(64, activation='relu'))\n",
    "model.add(Dense(len(np.unique(y_encoded)), activation='softmax'))  # 输出层，类别数与标签编码后的唯一值数量相同\n",
    "\n",
    "# 编译模型\n",
    "model.compile(loss='sparse_categorical_crossentropy', optimizer='adam', metrics=['accuracy'])\n",
    "\n",
    "# 训练模型\n",
    "model.fit(X_train, y_train, epochs=10, validation_data=(X_test, y_test))\n",
    "\n",
    "# 评估模型\n",
    "accuracy = model.evaluate(X_test, y_test, verbose=0)\n",
    "print(f'测试集准确率: {accuracy[1]:.2f}')\n"
   ]
  },
  {
   "cell_type": "code",
   "execution_count": 3,
   "metadata": {},
   "outputs": [
    {
     "name": "stdout",
     "output_type": "stream",
     "text": [
      "\u001b[1m 1/46\u001b[0m \u001b[37m━━━━━━━━━━━━━━━━━━━━\u001b[0m \u001b[1m1s\u001b[0m 37ms/step"
     ]
    },
    {
     "name": "stdout",
     "output_type": "stream",
     "text": [
      "\u001b[1m46/46\u001b[0m \u001b[32m━━━━━━━━━━━━━━━━━━━━\u001b[0m\u001b[37m\u001b[0m \u001b[1m0s\u001b[0m 1ms/step\n",
      "                    precision    recall  f1-score   support\n",
      "\n",
      "            LAYING       0.99      1.00      0.99       280\n",
      "           SITTING       0.98      0.62      0.76       262\n",
      "          STANDING       0.74      0.99      0.84       276\n",
      "           WALKING       0.96      0.99      0.98       247\n",
      "WALKING_DOWNSTAIRS       0.99      0.97      0.98       206\n",
      "  WALKING_UPSTAIRS       0.98      0.96      0.97       200\n",
      "\n",
      "          accuracy                           0.92      1471\n",
      "         macro avg       0.94      0.92      0.92      1471\n",
      "      weighted avg       0.93      0.92      0.92      1471\n",
      "\n",
      "[[280   0   0   0   0   0]\n",
      " [  3 163  96   0   0   0]\n",
      " [  0   4 272   0   0   0]\n",
      " [  0   0   0 245   0   2]\n",
      " [  0   0   0   4 200   2]\n",
      " [  0   0   0   5   3 192]]\n"
     ]
    }
   ],
   "source": [
    "from sklearn.metrics import classification_report, confusion_matrix\n",
    "\n",
    "# 使用模型进行预测\n",
    "y_pred = model.predict(X_test)\n",
    "# 将预测的概率转换为类别标签\n",
    "y_pred_classes = np.argmax(y_pred, axis=1)\n",
    "\n",
    "# 生成和打印分类报告\n",
    "print(classification_report(y_test, y_pred_classes, target_names=encoder.classes_))\n",
    "\n",
    "# 生成混淆矩阵\n",
    "conf_matrix = confusion_matrix(y_test, y_pred_classes)\n",
    "print(conf_matrix)"
   ]
  },
  {
   "cell_type": "code",
   "execution_count": 4,
   "metadata": {},
   "outputs": [
    {
     "data": {
      "image/png": "[encoded data removed]",
      "text/plain": [
       "<Figure size 800x600 with 1 Axes>"
      ]
     },
     "metadata": {},
     "output_type": "display_data"
    }
   ],
   "source": [
    "from sklearn.metrics import confusion_matrix\n",
    "import seaborn as sns\n",
    "import matplotlib.pyplot as plt\n",
    "\n",
    "\n",
    "# 绘制热力图\n",
    "plt.figure(figsize=(8, 6))\n",
    "sns.heatmap(conf_matrix, annot=True, fmt='d', cmap='Greens', cbar=False)\n",
    "plt.xlabel('Predicted Labels')\n",
    "plt.ylabel('True Labels')\n",
    "plt.title('Confusion Matrix')\n",
    "plt.show()"
   ]
  },
  {
   "cell_type": "code",
   "execution_count": null,
   "metadata": {},
   "outputs": [],
   "source": []
  }
 ],
 "metadata": {
  "kernelspec": {
   "display_name": "Python 3",
   "language": "python",
   "name": "python3"
  },
  "language_info": {
   "codemirror_mode": {
    "name": "ipython",
    "version": 3
   },
   "file_extension": ".py",
   "mimetype": "text/x-python",
   "name": "python",
   "nbconvert_exporter": "python",
   "pygments_lexer": "ipython3",
   "version": "3.10.13"
  }
 },
 "nbformat": 4,
 "nbformat_minor": 2
}
