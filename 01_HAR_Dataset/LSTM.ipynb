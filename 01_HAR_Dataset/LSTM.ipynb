{
 "cells": [
  {
   "cell_type": "code",
   "execution_count": 1,
   "metadata": {},
   "outputs": [
    {
     "name": "stderr",
     "output_type": "stream",
     "text": [
      "/tmp/ipykernel_2163/4249202280.py:2: DeprecationWarning: \n",
      "Pyarrow will become a required dependency of pandas in the next major release of pandas (pandas 3.0),\n",
      "(to allow more performant data types, such as the Arrow string type, and better interoperability with other libraries)\n",
      "but was not found to be installed on your system.\n",
      "If this would cause problems for you,\n",
      "please provide us feedback at https://github.com/pandas-dev/pandas/issues/54466\n",
      "        \n",
      "  import pandas as pd\n"
     ]
    },
    {
     "name": "stdout",
     "output_type": "stream",
     "text": [
      "<class 'pandas.core.frame.DataFrame'>\n",
      "RangeIndex: 7352 entries, 0 to 7351\n",
      "Columns: 563 entries, tBodyAcc-mean()-X to Activity\n",
      "dtypes: float64(561), int64(1), object(1)\n",
      "memory usage: 31.6+ MB\n"
     ]
    },
    {
     "data": {
      "text/plain": [
       "(None,\n",
       "    tBodyAcc-mean()-X  tBodyAcc-mean()-Y  tBodyAcc-mean()-Z  tBodyAcc-std()-X  \\\n",
       " 0           0.288585          -0.020294          -0.132905         -0.995279   \n",
       " 1           0.278419          -0.016411          -0.123520         -0.998245   \n",
       " 2           0.279653          -0.019467          -0.113462         -0.995380   \n",
       " 3           0.279174          -0.026201          -0.123283         -0.996091   \n",
       " 4           0.276629          -0.016570          -0.115362         -0.998139   \n",
       " \n",
       "    tBodyAcc-std()-Y  tBodyAcc-std()-Z  tBodyAcc-mad()-X  tBodyAcc-mad()-Y  \\\n",
       " 0         -0.983111         -0.913526         -0.995112         -0.983185   \n",
       " 1         -0.975300         -0.960322         -0.998807         -0.974914   \n",
       " 2         -0.967187         -0.978944         -0.996520         -0.963668   \n",
       " 3         -0.983403         -0.990675         -0.997099         -0.982750   \n",
       " 4         -0.980817         -0.990482         -0.998321         -0.979672   \n",
       " \n",
       "    tBodyAcc-mad()-Z  tBodyAcc-max()-X  ...  fBodyBodyGyroJerkMag-kurtosis()  \\\n",
       " 0         -0.923527         -0.934724  ...                        -0.710304   \n",
       " 1         -0.957686         -0.943068  ...                        -0.861499   \n",
       " 2         -0.977469         -0.938692  ...                        -0.760104   \n",
       " 3         -0.989302         -0.938692  ...                        -0.482845   \n",
       " 4         -0.990441         -0.942469  ...                        -0.699205   \n",
       " \n",
       "    angle(tBodyAccMean,gravity)  angle(tBodyAccJerkMean),gravityMean)  \\\n",
       " 0                    -0.112754                              0.030400   \n",
       " 1                     0.053477                             -0.007435   \n",
       " 2                    -0.118559                              0.177899   \n",
       " 3                    -0.036788                             -0.012892   \n",
       " 4                     0.123320                              0.122542   \n",
       " \n",
       "    angle(tBodyGyroMean,gravityMean)  angle(tBodyGyroJerkMean,gravityMean)  \\\n",
       " 0                         -0.464761                             -0.018446   \n",
       " 1                         -0.732626                              0.703511   \n",
       " 2                          0.100699                              0.808529   \n",
       " 3                          0.640011                             -0.485366   \n",
       " 4                          0.693578                             -0.615971   \n",
       " \n",
       "    angle(X,gravityMean)  angle(Y,gravityMean)  angle(Z,gravityMean)  subject  \\\n",
       " 0             -0.841247              0.179941             -0.058627        1   \n",
       " 1             -0.844788              0.180289             -0.054317        1   \n",
       " 2             -0.848933              0.180637             -0.049118        1   \n",
       " 3             -0.848649              0.181935             -0.047663        1   \n",
       " 4             -0.847865              0.185151             -0.043892        1   \n",
       " \n",
       "    Activity  \n",
       " 0  STANDING  \n",
       " 1  STANDING  \n",
       " 2  STANDING  \n",
       " 3  STANDING  \n",
       " 4  STANDING  \n",
       " \n",
       " [5 rows x 563 columns])"
      ]
     },
     "execution_count": 1,
     "metadata": {},
     "output_type": "execute_result"
    }
   ],
   "source": [
    "# 首先，我们需要加载并查看上传的文件内容，以了解数据的结构。\n",
    "import pandas as pd\n",
    "\n",
    "# 加载数据\n",
    "data_path = './data/train.csv'\n",
    "data = pd.read_csv(data_path)\n",
    "\n",
    "# 显示数据的前几行以及信息概览\n",
    "data.info(), data.head()"
   ]
  },
  {
   "cell_type": "code",
   "execution_count": null,
   "metadata": {},
   "outputs": [],
   "source": []
  },
  {
   "cell_type": "code",
   "execution_count": 2,
   "metadata": {},
   "outputs": [
    {
     "name": "stderr",
     "output_type": "stream",
     "text": [
      "2024-03-13 23:59:04.488633: I external/local_tsl/tsl/cuda/cudart_stub.cc:32] Could not find cuda drivers on your machine, GPU will not be used.\n",
      "2024-03-13 23:59:05.660108: I external/local_tsl/tsl/cuda/cudart_stub.cc:32] Could not find cuda drivers on your machine, GPU will not be used.\n",
      "2024-03-13 23:59:08.549679: I tensorflow/core/platform/cpu_feature_guard.cc:210] This TensorFlow binary is optimized to use available CPU instructions in performance-critical operations.\n",
      "To enable the following instructions: AVX2 FMA, in other operations, rebuild TensorFlow with the appropriate compiler flags.\n",
      "2024-03-13 23:59:11.610387: W tensorflow/compiler/tf2tensorrt/utils/py_utils.cc:38] TF-TRT Warning: Could not find TensorRT\n"
     ]
    },
    {
     "name": "stdout",
     "output_type": "stream",
     "text": [
      "Epoch 1/10\n"
     ]
    },
    {
     "name": "stderr",
     "output_type": "stream",
     "text": [
      "/home/codespace/.python/current/lib/python3.10/site-packages/keras/src/layers/rnn/rnn.py:205: UserWarning: Do not pass an `input_shape`/`input_dim` argument to a layer. When using Sequential models, prefer using an `Input(shape)` object as the first layer in the model instead.\n",
      "  super().__init__(**kwargs)\n"
     ]
    },
    {
     "name": "stdout",
     "output_type": "stream",
     "text": [
      "\u001b[1m184/184\u001b[0m \u001b[32m━━━━━━━━━━━━━━━━━━━━\u001b[0m\u001b[37m\u001b[0m \u001b[1m43s\u001b[0m 220ms/step - accuracy: 0.2718 - loss: 1.6163 - val_accuracy: 0.2271 - val_loss: 1.7252\n",
      "Epoch 2/10\n",
      "\u001b[1m184/184\u001b[0m \u001b[32m━━━━━━━━━━━━━━━━━━━━\u001b[0m\u001b[37m\u001b[0m \u001b[1m41s\u001b[0m 221ms/step - accuracy: 0.3160 - loss: 1.5294 - val_accuracy: 0.3800 - val_loss: 1.1943\n",
      "Epoch 3/10\n",
      "\u001b[1m184/184\u001b[0m \u001b[32m━━━━━━━━━━━━━━━━━━━━\u001b[0m\u001b[37m\u001b[0m \u001b[1m40s\u001b[0m 220ms/step - accuracy: 0.4226 - loss: 1.1100 - val_accuracy: 0.4181 - val_loss: 1.0786\n",
      "Epoch 4/10\n",
      "\u001b[1m184/184\u001b[0m \u001b[32m━━━━━━━━━━━━━━━━━━━━\u001b[0m\u001b[37m\u001b[0m \u001b[1m41s\u001b[0m 220ms/step - accuracy: 0.4444 - loss: 1.0665 - val_accuracy: 0.5044 - val_loss: 1.0416\n",
      "Epoch 5/10\n",
      "\u001b[1m184/184\u001b[0m \u001b[32m━━━━━━━━━━━━━━━━━━━━\u001b[0m\u001b[37m\u001b[0m \u001b[1m41s\u001b[0m 222ms/step - accuracy: 0.4858 - loss: 1.0279 - val_accuracy: 0.5194 - val_loss: 0.9895\n",
      "Epoch 6/10\n",
      "\u001b[1m184/184\u001b[0m \u001b[32m━━━━━━━━━━━━━━━━━━━━\u001b[0m\u001b[37m\u001b[0m \u001b[1m41s\u001b[0m 220ms/step - accuracy: 0.5039 - loss: 0.9935 - val_accuracy: 0.5330 - val_loss: 0.9531\n",
      "Epoch 7/10\n",
      "\u001b[1m184/184\u001b[0m \u001b[32m━━━━━━━━━━━━━━━━━━━━\u001b[0m\u001b[37m\u001b[0m \u001b[1m40s\u001b[0m 219ms/step - accuracy: 0.5088 - loss: 0.9722 - val_accuracy: 0.5133 - val_loss: 0.9631\n",
      "Epoch 8/10\n",
      "\u001b[1m184/184\u001b[0m \u001b[32m━━━━━━━━━━━━━━━━━━━━\u001b[0m\u001b[37m\u001b[0m \u001b[1m40s\u001b[0m 220ms/step - accuracy: 0.4959 - loss: 0.9834 - val_accuracy: 0.5540 - val_loss: 0.9221\n",
      "Epoch 9/10\n",
      "\u001b[1m184/184\u001b[0m \u001b[32m━━━━━━━━━━━━━━━━━━━━\u001b[0m\u001b[37m\u001b[0m \u001b[1m41s\u001b[0m 221ms/step - accuracy: 0.5395 - loss: 0.9227 - val_accuracy: 0.5459 - val_loss: 0.9096\n",
      "Epoch 10/10\n",
      "\u001b[1m184/184\u001b[0m \u001b[32m━━━━━━━━━━━━━━━━━━━━\u001b[0m\u001b[37m\u001b[0m \u001b[1m41s\u001b[0m 221ms/step - accuracy: 0.5370 - loss: 0.9384 - val_accuracy: 0.5472 - val_loss: 0.9239\n",
      "测试集准确率: 0.55\n"
     ]
    }
   ],
   "source": [
    "\n",
    "import numpy as np\n",
    "import tensorflow as tf\n",
    "from tensorflow.keras.models import Sequential\n",
    "from tensorflow.keras.layers import LSTM, Dense, Dropout\n",
    "from sklearn.model_selection import train_test_split\n",
    "from sklearn.preprocessing import LabelEncoder\n",
    "\n",
    "# 数据准备\n",
    "X = data.iloc[:, :-2].values  # 假设最后两列是subject和Activity，所以我们不包括它们\n",
    "y = data['Activity'].values\n",
    "\n",
    "# 将标签编码为整数\n",
    "encoder = LabelEncoder()\n",
    "y_encoded = encoder.fit_transform(y)\n",
    "\n",
    "# 将数据分割为训练集和测试集\n",
    "X_train, X_test, y_train, y_test = train_test_split(X, y_encoded, test_size=0.2, random_state=42)\n",
    "\n",
    "# 由于LSTM需要的输入格式为[样本数, 时间步长, 特征数]，这里不需要重新塑形，因为我们已经有了正确的格式\n",
    "X_train = X_train.reshape(X_train.shape[0], X_train.shape[1], 1)\n",
    "X_test = X_test.reshape(X_test.shape[0], X_test.shape[1], 1)\n",
    "\n",
    "# 构建LSTM模型\n",
    "model = Sequential()\n",
    "model.add(LSTM(64, input_shape=(X_train.shape[1], 1), return_sequences=True))\n",
    "model.add(Dropout(0.5))\n",
    "model.add(LSTM(32))\n",
    "model.add(Dense(100, activation='relu'))\n",
    "model.add(Dense(len(np.unique(y_encoded)), activation='softmax'))\n",
    "\n",
    "# 编译模型\n",
    "model.compile(loss='sparse_categorical_crossentropy', optimizer='adam', metrics=['accuracy'])\n",
    "\n",
    "# 训练模型\n",
    "model.fit(X_train, y_train, epochs=10, validation_data=(X_test, y_test))\n",
    "\n",
    "# 评估模型\n",
    "accuracy = model.evaluate(X_test, y_test, verbose=0)\n",
    "print(f'测试集准确率: {accuracy[1]:.2f}')"
   ]
  },
  {
   "cell_type": "code",
   "execution_count": 3,
   "metadata": {},
   "outputs": [
    {
     "name": "stdout",
     "output_type": "stream",
     "text": [
      "\u001b[1m46/46\u001b[0m \u001b[32m━━━━━━━━━━━━━━━━━━━━\u001b[0m\u001b[37m\u001b[0m \u001b[1m3s\u001b[0m 63ms/step\n",
      "                    precision    recall  f1-score   support\n",
      "\n",
      "            LAYING       0.56      0.52      0.54       280\n",
      "           SITTING       0.40      0.85      0.54       262\n",
      "          STANDING       0.33      0.00      0.01       276\n",
      "           WALKING       0.76      0.67      0.71       247\n",
      "WALKING_DOWNSTAIRS       0.86      0.64      0.74       206\n",
      "  WALKING_UPSTAIRS       0.49      0.69      0.57       200\n",
      "\n",
      "          accuracy                           0.55      1471\n",
      "         macro avg       0.57      0.56      0.52      1471\n",
      "      weighted avg       0.56      0.55      0.50      1471\n",
      "\n",
      "[[145 129   0   0   0   6]\n",
      " [ 37 223   0   0   0   2]\n",
      " [ 70 203   1   0   0   2]\n",
      " [  1   0   0 166   7  73]\n",
      " [  1   0   0  13 132  60]\n",
      " [  4   2   2  40  14 138]]\n"
     ]
    }
   ],
   "source": [
    "from sklearn.metrics import classification_report, confusion_matrix\n",
    "\n",
    "# 使用模型进行预测\n",
    "y_pred = model.predict(X_test)\n",
    "# 将预测的概率转换为类别标签\n",
    "y_pred_classes = np.argmax(y_pred, axis=1)\n",
    "\n",
    "# 生成和打印分类报告\n",
    "print(classification_report(y_test, y_pred_classes, target_names=encoder.classes_))\n",
    "\n",
    "# 生成混淆矩阵\n",
    "conf_matrix = confusion_matrix(y_test, y_pred_classes)\n",
    "print(conf_matrix)"
   ]
  },
  {
   "cell_type": "code",
   "execution_count": null,
   "metadata": {},
   "outputs": [],
   "source": []
  },
  {
   "cell_type": "code",
   "execution_count": 5,
   "metadata": {},
   "outputs": [
    {
     "data": {
      "image/png": "[encoded data removed]",
      "text/plain": [
       "<Figure size 800x600 with 1 Axes>"
      ]
     },
     "metadata": {},
     "output_type": "display_data"
    }
   ],
   "source": [
    "from sklearn.metrics import confusion_matrix\n",
    "import seaborn as sns\n",
    "import matplotlib.pyplot as plt\n",
    "\n",
    "\n",
    "# 绘制热力图\n",
    "plt.figure(figsize=(8, 6))\n",
    "sns.heatmap(conf_matrix, annot=True, fmt='d', cmap='Oranges', cbar=False)\n",
    "plt.xlabel('Predicted Labels')\n",
    "plt.ylabel('True Labels')\n",
    "plt.title('Confusion Matrix')\n",
    "plt.show()"
   ]
  },
  {
   "cell_type": "code",
   "execution_count": null,
   "metadata": {},
   "outputs": [],
   "source": []
  }
 ],
 "metadata": {
  "kernelspec": {
   "display_name": "Python 3",
   "language": "python",
   "name": "python3"
  },
  "language_info": {
   "codemirror_mode": {
    "name": "ipython",
    "version": 3
   },
   "file_extension": ".py",
   "mimetype": "text/x-python",
   "name": "python",
   "nbconvert_exporter": "python",
   "pygments_lexer": "ipython3",
   "version": "3.10.13"
  }
 },
 "nbformat": 4,
 "nbformat_minor": 2
}
